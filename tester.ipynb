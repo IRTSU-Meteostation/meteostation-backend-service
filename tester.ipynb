{
 "cells": [
  {
   "cell_type": "code",
   "execution_count": 1,
   "metadata": {},
   "outputs": [],
   "source": [
    "import httpx"
   ]
  },
  {
   "cell_type": "code",
   "execution_count": 2,
   "metadata": {},
   "outputs": [],
   "source": [
    "url = 'http://127.0.0.1:8000'"
   ]
  },
  {
   "cell_type": "code",
   "execution_count": 73,
   "metadata": {},
   "outputs": [],
   "source": [
    "data = {\n",
    "    'password' : 'fakehashedsecret',\n",
    "    'username' : 'johndoe'\n",
    "}\n",
    "response = httpx.post(url + '/token', data=data)"
   ]
  },
  {
   "cell_type": "code",
   "execution_count": 74,
   "metadata": {},
   "outputs": [],
   "source": [
    "token = response.json()['access_token']"
   ]
  },
  {
   "cell_type": "code",
   "execution_count": 75,
   "metadata": {},
   "outputs": [],
   "source": [
    "\n",
    "time = httpx.get(url + '/time', headers=headers)"
   ]
  },
  {
   "cell_type": "code",
   "execution_count": 10,
   "metadata": {},
   "outputs": [
    {
     "data": {
      "text/plain": [
       "'{\"user\":{\"id\":3,\"username\":\"admin123\"}}'"
      ]
     },
     "execution_count": 10,
     "metadata": {},
     "output_type": "execute_result"
    }
   ],
   "source": [
    "headers = {\"Authorization\": f\"Bearer {token}\"}\n",
    "httpx.get('http://127.0.0.1:8000/users/me', headers=headers).text"
   ]
  },
  {
   "cell_type": "code",
   "execution_count": 19,
   "metadata": {},
   "outputs": [
    {
     "data": {
      "text/plain": [
       "{'status': 'received'}"
      ]
     },
     "execution_count": 19,
     "metadata": {},
     "output_type": "execute_result"
    }
   ],
   "source": [
    "r = httpx.post('http://127.0.0.1:8000/report', json={   \"data\" :\n",
    "    {\n",
    "        \"air\":\n",
    "        {\n",
    "            \"temperature\" : { \n",
    "                \"date_time\" : [\"02.12.2023,21:46:13\",\"02.12.2023,21:46:14\"],\n",
    "                \"data\" : [1.0, 2.0]\n",
    "            },\n",
    "            \"humidity\" : {\n",
    "                \"date_time\" : [\"02.12.2023,21:46:13\",\"02.12.2023,21:46:14\"],\n",
    "                \"data\" : [1.0, 2.0]\n",
    "            },\n",
    "            \"wind_direction\" : {\n",
    "                \"date_time\" : [\"02.12.2023,21:46:13\",\"02.12.2023,21:46:14\"],\n",
    "                \"data\" : [1.0, 2.0]\n",
    "            },\n",
    "            \"wind_speed\" : {\n",
    "                \"date_time\" : [\"02.12.2023,21:46:13\",\"02.12.2023,21:46:14\"],\n",
    "                \"data\" : [1.0, 2.0]\n",
    "            }\n",
    "        },\n",
    "        \"soil\" : \n",
    "        {\n",
    "            \"temperature\" : {\n",
    "                \"date_time\" : [\"02.12.2023,21:46:13\",\"02.12.2023,21:46:14\"],\n",
    "                \"data\" : [1.0, 2.0]\n",
    "            },\n",
    "            \"humidity\" : {\n",
    "                \"date_time\" : [\"02.12.2023,21:46:13\",\"02.12.2023,21:46:14\"],\n",
    "                \"data\" : [1.0, 2.0]\n",
    "            }\n",
    "        },\n",
    "        \"rainfall\" : \n",
    "        {\n",
    "            \"date_time\" : [\"02.12.2023,21:46:13\",\"02.12.2023,21:46:14\"],\n",
    "            \"data\" : [1.0, 2.0]\n",
    "        },\n",
    "        \"errors\" :\n",
    "        {\n",
    "            \"date_time\" : [\"02.12.2023,21:46:13\",\"02.12.2023,21:46:14\"],\n",
    "            \"data\" : [\"er1\",\"er2\"]\n",
    "        },\n",
    "        \"gps\" : \n",
    "        {\n",
    "            \"date_time\" : [\"02.12.2023,21:46:13\",\"02.12.2023,21:46:14\"],\n",
    "            \"longitude\" : [1.0, 2.0],\n",
    "            \"latitude\" : [1.0, 2.0]\n",
    "        },\n",
    "        \"battery_voltage\" : \n",
    "        {\n",
    "            \"date_time\" : [\"02.12.2023,21:46:13\",\"02.12.2023,21:46:14\"],\n",
    "            \"data\" : [1.0, 2.0]\n",
    "        }\n",
    "    },\n",
    "    \"device_id\" : 1\n",
    "})\n",
    "r.json()"
   ]
  },
  {
   "cell_type": "code",
   "execution_count": 18,
   "metadata": {},
   "outputs": [
    {
     "data": {
      "text/plain": [
       "{'status': 'succses'}"
      ]
     },
     "execution_count": 18,
     "metadata": {},
     "output_type": "execute_result"
    }
   ],
   "source": [
    "r = httpx.post('http://127.0.0.1:8000/add_user', json={'name' : 'test_user', 'password' : 'password', 'role' : 'user', 'photo_url' : None})\n",
    "r.json()"
   ]
  },
  {
   "cell_type": "code",
   "execution_count": 24,
   "metadata": {},
   "outputs": [
    {
     "data": {
      "text/plain": [
       "{'status': 'succses'}"
      ]
     },
     "execution_count": 24,
     "metadata": {},
     "output_type": "execute_result"
    }
   ],
   "source": [
    "r = httpx.post('http://127.0.0.1:8000/add_device', json={'name' : 'test_user', 'description' : '', 'user_id' : None})\n",
    "r.json()"
   ]
  },
  {
   "cell_type": "code",
   "execution_count": 5,
   "metadata": {},
   "outputs": [
    {
     "data": {
      "text/plain": [
       "{'status': 'success', 'data': []}"
      ]
     },
     "execution_count": 5,
     "metadata": {},
     "output_type": "execute_result"
    }
   ],
   "source": [
    "r = httpx.get('http://127.0.0.1:8000/get_snapshots', params = {'device_id' : 1, 'start_date' : '2022-01-01T12:00:00', 'end_date' : '2022-01-01T14:00:00', 'type' : 'error'})\n",
    "r.json()"
   ]
  },
  {
   "cell_type": "code",
   "execution_count": null,
   "metadata": {},
   "outputs": [],
   "source": [
    "name: str\n",
    "password: str\n",
    "role: str\n",
    "photo_url: str"
   ]
  },
  {
   "cell_type": "code",
   "execution_count": 7,
   "metadata": {},
   "outputs": [
    {
     "data": {
      "text/plain": [
       "'{\"message\":\"User registered successfully\"}'"
      ]
     },
     "execution_count": 7,
     "metadata": {},
     "output_type": "execute_result"
    }
   ],
   "source": [
    "httpx.post('http://127.0.0.1:8000/reg_user', json={'username' : 'admin123', 'password' : 'admin123'}).text"
   ]
  },
  {
   "cell_type": "code",
   "execution_count": null,
   "metadata": {},
   "outputs": [],
   "source": []
  }
 ],
 "metadata": {
  "kernelspec": {
   "display_name": "Python 3",
   "language": "python",
   "name": "python3"
  },
  "language_info": {
   "codemirror_mode": {
    "name": "ipython",
    "version": 3
   },
   "file_extension": ".py",
   "mimetype": "text/x-python",
   "name": "python",
   "nbconvert_exporter": "python",
   "pygments_lexer": "ipython3",
   "version": "3.11.4"
  }
 },
 "nbformat": 4,
 "nbformat_minor": 2
}
